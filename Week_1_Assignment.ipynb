{
 "cells": [
  {
   "cell_type": "code",
   "execution_count": 5,
   "id": "35f497f3-8285-43c1-a370-727d81b0b8e8",
   "metadata": {},
   "outputs": [
    {
     "name": "stdout",
     "output_type": "stream",
     "text": [
      "3600\n"
     ]
    }
   ],
   "source": [
    "seconds_per_minute = 60\n",
    "seconds_per_hour = 60\n",
    "seconds_per_hour = seconds_per_minute * seconds_per_hour\n",
    "print(seconds_per_hour)"
   ]
  },
  {
   "cell_type": "code",
   "execution_count": 6,
   "id": "89cab909-6c23-496c-b5c5-0af4741b607b",
   "metadata": {},
   "outputs": [
    {
     "name": "stdout",
     "output_type": "stream",
     "text": [
      "86400\n"
     ]
    }
   ],
   "source": [
    "hours_per_day = 24\n",
    "seconds_per_day = seconds_per_hour * hours_per_day\n",
    "print(seconds_per_day)"
   ]
  },
  {
   "cell_type": "code",
   "execution_count": 7,
   "id": "45c89794-c681-41a5-827e-3c9eacbbd3c2",
   "metadata": {},
   "outputs": [
    {
     "name": "stdout",
     "output_type": "stream",
     "text": [
      "24.0\n"
     ]
    }
   ],
   "source": [
    "float_division = seconds_per_day / seconds_per_hour\n",
    "print(float_division)"
   ]
  },
  {
   "cell_type": "code",
   "execution_count": 8,
   "id": "a01d5a9d-0a6b-4eae-b7c7-8ef0d6ed9557",
   "metadata": {},
   "outputs": [
    {
     "name": "stdout",
     "output_type": "stream",
     "text": [
      "24\n"
     ]
    }
   ],
   "source": [
    "int_division = seconds_per_day // seconds_per_hour\n",
    "print(int_division)"
   ]
  },
  {
   "cell_type": "code",
   "execution_count": null,
   "id": "0164bdde-19ee-4ed2-b023-7a9fff7031dc",
   "metadata": {},
   "outputs": [],
   "source": [
    "#3.6 final question, did the previous 2 answers match apart from the .0?\n",
    "#yes they did."
   ]
  }
 ],
 "metadata": {
  "kernelspec": {
   "display_name": "Python 3 (ipykernel)",
   "language": "python",
   "name": "python3"
  },
  "language_info": {
   "codemirror_mode": {
    "name": "ipython",
    "version": 3
   },
   "file_extension": ".py",
   "mimetype": "text/x-python",
   "name": "python",
   "nbconvert_exporter": "python",
   "pygments_lexer": "ipython3",
   "version": "3.11.7"
  }
 },
 "nbformat": 4,
 "nbformat_minor": 5
}
